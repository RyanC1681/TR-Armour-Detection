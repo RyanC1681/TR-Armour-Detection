{
 "cells": [
  {
   "cell_type": "code",
   "execution_count": null,
   "metadata": {},
   "outputs": [],
   "source": [
    "#basic_setup\n",
    "#from envs.cv import cv2\n",
    "#from \"C:\\Users\\Cathy\\anaconda3\\envs\\cv\" import cv2\n",
    "#import cv2\n",
    "#import numpy as np\n",
    "#example: https://www.kaggle.com/datasets/smeschke/four-shapes?select=process_data.py\n",
    "\n",
    "import cv2\n",
    "import numpy as np\n",
    "import imutils\n",
    "from matplotlib import pyplot as plt\n",
    "import pytesseract\n",
    "\n",
    "\n",
    "img = cv2.imread('LPdata/images/Cars10.png')\n",
    "\n",
    "img = cv2.resize(img, (620, 480))\n",
    "gray = cv2.cvtColor(img, cv2.COLOR_BGR2GRAY)\n",
    "gray = cv2.bilateralFilter(gray, 13,15,15)\n",
    "edged = cv2.Canny(gray, 30, 200) #Edge detection\n",
    "\n",
    "contours = cv2.findContours(edged.copy(),cv2.RETR_TREE,cv2.CHAIN_APPROX_SIMPLE)\n",
    "contours = imutils.grab_contours(contours)\n",
    "contours = sorted(contours,key=cv2.contourArea, reverse = True)[:10]\n",
    "screenCnt = None\n",
    "for c in contours:\n",
    "    # approximate the contour\n",
    "    peri = cv2.arcLength(c, True)\n",
    "    approx = cv2.approxPolyDP(c, 0.018 * peri, True)\n",
    "    # if our approximated contour has four points, then\n",
    "    # we can assume that we have found our screen\n",
    "    if len(approx) == 4:\n",
    "        screenCnt = approx\n",
    "        break\n",
    "print(screenCnt)\n",
    "img2 = cv2.polylines(img,[screenCnt],True,(255,0,0))\n",
    "mask = np.zeros(gray.shape,np.uint8)\n",
    "\n",
    "\n",
    "# Masking the part other than the number plate\n",
    "mask = np.zeros(gray.shape,np.uint8)\n",
    "new_image = cv2.drawContours(mask,[screenCnt],0,255,-1,)\n",
    "#new_image = cv2.bitwise_and(img,img,mask=mask)\n",
    "\n",
    "plt.imshow(new_image)\n",
    "plt.show()"
   ]
  }
 ],
 "metadata": {
  "language_info": {
   "name": "python"
  },
  "orig_nbformat": 4
 },
 "nbformat": 4,
 "nbformat_minor": 2
}
